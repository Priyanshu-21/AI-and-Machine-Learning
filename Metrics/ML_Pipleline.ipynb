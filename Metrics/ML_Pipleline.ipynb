{
 "cells": [
  {
   "cell_type": "markdown",
   "id": "56bf67f4",
   "metadata": {},
   "source": [
    "### Introduction to making piplelines using GridSearchCV\n",
    "After completing this lab you will be able to:\n",
    "\n",
    "- Build and evaluate a machine learning pipeline\n",
    "- Implement GridSearchCV for hyperparameter tuning with crossvalidation\n",
    "- Implement and optimize a complex classification pipeline using real-world data\n",
    "- Extract feature importances from a trained pipeline"
   ]
  },
  {
   "cell_type": "code",
   "execution_count": 18,
   "id": "b9c3bb75",
   "metadata": {},
   "outputs": [],
   "source": [
    "#Importing libraries \n",
    "import numpy as np \n",
    "import pandas as pd \n",
    "import matplotlib.pyplot as plt \n",
    "import seaborn as sns"
   ]
  },
  {
   "cell_type": "code",
   "execution_count": 2,
   "id": "d79e208d",
   "metadata": {},
   "outputs": [],
   "source": [
    "#1. Taking iris dataset and train it using KNN classification method \n",
    "from sklearn.datasets import load_iris\n",
    "\n",
    "data = load_iris()\n",
    "\n",
    "x, y = data.data, data.target\n",
    "\n",
    "labels = data.target_names"
   ]
  },
  {
   "cell_type": "markdown",
   "id": "a82284b2",
   "metadata": {},
   "source": [
    "#### Making Pipleline where we are doing the following processes \n",
    "\n",
    "1. Data Pre-processing: - StandardScaler\n",
    "2. Dimension Reduction: - PCA \n",
    "3. Model Selection: - KNN Classification"
   ]
  },
  {
   "cell_type": "code",
   "execution_count": 3,
   "id": "18eefaac",
   "metadata": {},
   "outputs": [],
   "source": [
    "#Pipleline \n",
    "from sklearn.pipeline import Pipeline\n",
    "from sklearn.decomposition import PCA\n",
    "from sklearn.neighbors import KNeighborsClassifier\n",
    "from sklearn.preprocessing import StandardScaler\n",
    "\n",
    "pipeline = Pipeline([\n",
    "    ('scaler', StandardScaler()), \n",
    "    ('pca', PCA(n_components= 2)),\n",
    "    ('knn', KNeighborsClassifier(n_neighbors= 5))\n",
    "])\n"
   ]
  },
  {
   "cell_type": "markdown",
   "id": "c5d8a19e",
   "metadata": {},
   "source": [
    "- **Stratified Cross validation**: - Ensures that each classfied datapoints have their density, variance and distribution intact throughout validaton fold. "
   ]
  },
  {
   "cell_type": "code",
   "execution_count": 6,
   "id": "4e2a705f",
   "metadata": {},
   "outputs": [],
   "source": [
    "#Split datasets into training, testing and validation sets. \n",
    "#Cross validaton technique used: Stratified Cross validation\n",
    "from sklearn.model_selection import train_test_split, GridSearchCV, StratifiedKFold\n",
    "\n",
    "x_train, x_test, y_train, y_test = train_test_split(x, y, test_size= 0.2, random_state= 42, stratify= y)\n"
   ]
  },
  {
   "cell_type": "code",
   "execution_count": 7,
   "id": "1d947812",
   "metadata": {},
   "outputs": [],
   "source": [
    "#Model Development\n",
    "pipeline = pipeline.fit(x_train, y_train)"
   ]
  },
  {
   "cell_type": "code",
   "execution_count": 11,
   "id": "056757bf",
   "metadata": {},
   "outputs": [],
   "source": [
    "#Model Prediction \n",
    "y_predict = pipeline.predict(x_test)"
   ]
  },
  {
   "cell_type": "code",
   "execution_count": null,
   "id": "d2e4f8c3",
   "metadata": {},
   "outputs": [
    {
     "name": "stdout",
     "output_type": "stream",
     "text": [
      "Model accuracy score:  90.000\n"
     ]
    }
   ],
   "source": [
    "#Model Score on the testing sets \n",
    "print(f'Model accuracy score: {pipeline.score(x_test, y_test) * 100: .3f}')"
   ]
  },
  {
   "cell_type": "code",
   "execution_count": 27,
   "id": "930feb29",
   "metadata": {},
   "outputs": [
    {
     "data": {
      "image/png": "[encoded data removed]",
      "text/plain": [
       "<Figure size 640x480 with 2 Axes>"
      ]
     },
     "metadata": {},
     "output_type": "display_data"
    }
   ],
   "source": [
    "#Model Evaluation based on the confusion matrix \n",
    "from sklearn.metrics import confusion_matrix\n",
    "\n",
    "con_matrix = confusion_matrix(y_test, y_predict)\n",
    "\n",
    "sns.heatmap(con_matrix, annot= True, fmt= '.2f', xticklabels= labels, cmap= 'Blues', yticklabels= labels)\n",
    "plt.title('KNN Model Prediction score')\n",
    "plt.xlabel('Prediction')\n",
    "plt.ylabel('Actual')\n",
    "plt.tight_layout()\n",
    "plt.show()\n"
   ]
  },
  {
   "cell_type": "markdown",
   "id": "985529c8",
   "metadata": {},
   "source": [
    "- **KNN Model Prediction**:\n",
    "    - 2 Virginica are classified wrongly as versicolor\n",
    "    - 1 Versicolor is classdifed wrongly as virginica"
   ]
  },
  {
   "cell_type": "markdown",
   "id": "13048c7f",
   "metadata": {},
   "source": [
    "### Instantiate the pipeline\n",
    "- Preprocess the data by scaling it and transforming it onto a to-be-determined number of principle components, follow that up with a KNN model classifier, and combine these estimators into a pipeline. \n",
    "- We'll then optimize the pipeline using crossvalidation over a hyperparameter grid search. This will allow us find the best model for the set of trial hyperparamters."
   ]
  },
  {
   "cell_type": "code",
   "execution_count": null,
   "id": "18582ec9",
   "metadata": {},
   "outputs": [],
   "source": [
    "#Model development and evaluation using GridSearchCV and Stratisfied Cross validation \n",
    "pipelines = Pipeline([\n",
    "    ('standard', StandardScaler()),\n",
    "    ('pca', PCA()), \n",
    "    ('knn', KNeighborsClassifier()),\n",
    "])"
   ]
  },
  {
   "cell_type": "code",
   "execution_count": 32,
   "id": "84a56835",
   "metadata": {},
   "outputs": [],
   "source": [
    "#Pre-defined hyperparamerts for PCA & KNN model \n",
    "grid_params = {\n",
    "    'pca__n_components': [2, 3],\n",
    "    'knn__n_neighbors': [3, 5, 7]\n",
    "}"
   ]
  },
  {
   "cell_type": "code",
   "execution_count": 34,
   "id": "f028770d",
   "metadata": {},
   "outputs": [],
   "source": [
    "#Make a cross validation (using stratisfy cross validation)\n",
    "cv = StratifiedKFold(n_splits= 5, shuffle= True, random_state= 42)"
   ]
  },
  {
   "cell_type": "markdown",
   "id": "9a310cad",
   "metadata": {},
   "source": [
    "| verbose value | Effect                                                                                   |\n",
    "| --------------- | ---------------------------------------------------------------------------------------- |\n",
    "| `0` (default)   | No output at all.                                                                        |\n",
    "| `1`             | Minimal — prints only high-level progress.                                               |\n",
    "| `2`             | More detailed — prints progress for each parameter combination.                          |\n",
    "| `3` or higher   | Very detailed — prints progress for each **cross-validation fold** for each combination. |"
   ]
  },
  {
   "cell_type": "code",
   "execution_count": 35,
   "id": "e76fef94",
   "metadata": {},
   "outputs": [],
   "source": [
    "#Using GridSearchCV pipeline to make cross validation more suitable \n",
    "ml_pipeline = GridSearchCV(\n",
    "    estimator= pipelines,\n",
    "    param_grid= grid_params, \n",
    "    cv= cv,\n",
    "    scoring= 'accuracy',\n",
    "    verbose= 2\n",
    ")"
   ]
  },
  {
   "cell_type": "code",
   "execution_count": 39,
   "id": "57d59e4d",
   "metadata": {},
   "outputs": [
    {
     "name": "stdout",
     "output_type": "stream",
     "text": [
      "Fitting 5 folds for each of 6 candidates, totalling 30 fits\n",
      "[CV] END ............knn__n_neighbors=3, pca__n_components=2; total time=   0.0s\n",
      "[CV] END ............knn__n_neighbors=3, pca__n_components=2; total time=   0.0s\n",
      "[CV] END ............knn__n_neighbors=3, pca__n_components=2; total time=   0.0s\n",
      "[CV] END ............knn__n_neighbors=3, pca__n_components=2; total time=   0.0s\n",
      "[CV] END ............knn__n_neighbors=3, pca__n_components=2; total time=   0.0s\n",
      "[CV] END ............knn__n_neighbors=3, pca__n_components=3; total time=   0.0s\n",
      "[CV] END ............knn__n_neighbors=3, pca__n_components=3; total time=   0.0s\n",
      "[CV] END ............knn__n_neighbors=3, pca__n_components=3; total time=   0.0s\n",
      "[CV] END ............knn__n_neighbors=3, pca__n_components=3; total time=   0.0s\n",
      "[CV] END ............knn__n_neighbors=3, pca__n_components=3; total time=   0.0s\n",
      "[CV] END ............knn__n_neighbors=5, pca__n_components=2; total time=   0.0s\n",
      "[CV] END ............knn__n_neighbors=5, pca__n_components=2; total time=   0.0s\n",
      "[CV] END ............knn__n_neighbors=5, pca__n_components=2; total time=   0.0s\n",
      "[CV] END ............knn__n_neighbors=5, pca__n_components=2; total time=   0.0s\n",
      "[CV] END ............knn__n_neighbors=5, pca__n_components=2; total time=   0.0s\n",
      "[CV] END ............knn__n_neighbors=5, pca__n_components=3; total time=   0.0s\n",
      "[CV] END ............knn__n_neighbors=5, pca__n_components=3; total time=   0.0s\n",
      "[CV] END ............knn__n_neighbors=5, pca__n_components=3; total time=   0.0s\n",
      "[CV] END ............knn__n_neighbors=5, pca__n_components=3; total time=   0.0s\n",
      "[CV] END ............knn__n_neighbors=5, pca__n_components=3; total time=   0.0s\n",
      "[CV] END ............knn__n_neighbors=7, pca__n_components=2; total time=   0.0s\n",
      "[CV] END ............knn__n_neighbors=7, pca__n_components=2; total time=   0.0s\n",
      "[CV] END ............knn__n_neighbors=7, pca__n_components=2; total time=   0.0s\n",
      "[CV] END ............knn__n_neighbors=7, pca__n_components=2; total time=   0.0s\n",
      "[CV] END ............knn__n_neighbors=7, pca__n_components=2; total time=   0.0s\n",
      "[CV] END ............knn__n_neighbors=7, pca__n_components=3; total time=   0.0s\n",
      "[CV] END ............knn__n_neighbors=7, pca__n_components=3; total time=   0.0s\n",
      "[CV] END ............knn__n_neighbors=7, pca__n_components=3; total time=   0.0s\n",
      "[CV] END ............knn__n_neighbors=7, pca__n_components=3; total time=   0.0s\n",
      "[CV] END ............knn__n_neighbors=7, pca__n_components=3; total time=   0.0s\n"
     ]
    }
   ],
   "source": [
    "#Model Development on k-fold cross-validation technique\n",
    "ml_pipeline = ml_pipeline.fit(x_train, y_train)"
   ]
  },
  {
   "cell_type": "markdown",
   "id": "8c2fb8bf",
   "metadata": {},
   "source": [
    "- **Total Combination of cross validation** = no. of PCA * no. of n_neighbors * no of splits in validation\n",
    "- Total = 2 * 3 * 5 = 30 splits combinations"
   ]
  },
  {
   "cell_type": "code",
   "execution_count": 41,
   "id": "f30ec73b",
   "metadata": {},
   "outputs": [
    {
     "name": "stdout",
     "output_type": "stream",
     "text": [
      "Model Accuracy Score using Grid Search for Cross Validaton:  0.933\n"
     ]
    }
   ],
   "source": [
    "#Model accuracy score and model prediction \n",
    "y_predict = ml_pipeline.predict(x_test)\n",
    "\n",
    "print(f'Model Accuracy Score using Grid Search for Cross Validaton: {ml_pipeline.score(x_test, y_test): .3f}')"
   ]
  },
  {
   "cell_type": "code",
   "execution_count": 43,
   "id": "9f007f93",
   "metadata": {},
   "outputs": [
    {
     "data": {
      "image/png": "[encoded data removed]",
      "text/plain": [
       "<Figure size 1000x800 with 2 Axes>"
      ]
     },
     "metadata": {},
     "output_type": "display_data"
    }
   ],
   "source": [
    "#Model visualization using confusion matrix \n",
    "matrix = confusion_matrix(y_test, y_predict)\n",
    "\n",
    "plt.figure(figsize= (10, 8))\n",
    "sns.heatmap(matrix, cmap= 'Blues', annot= True, fmt= '.2f', xticklabels= labels, yticklabels= labels)\n",
    "plt.xlabel('Prediction')\n",
    "plt.ylabel('Actual')\n",
    "plt.title('Grid Search CV Model Prediction')\n",
    "plt.show()"
   ]
  },
  {
   "cell_type": "code",
   "execution_count": 44,
   "id": "ba90d190",
   "metadata": {},
   "outputs": [
    {
     "data": {
      "text/plain": [
       "{'knn__n_neighbors': 3, 'pca__n_components': 3}"
      ]
     },
     "execution_count": 44,
     "metadata": {},
     "output_type": "execute_result"
    }
   ],
   "source": [
    "#Get best parameters for this ml pipeline \n",
    "ml_pipeline.best_params_"
   ]
  },
  {
   "cell_type": "markdown",
   "id": "b0d56701",
   "metadata": {},
   "source": [
    "- KNN Model Prediction `GridSearchCV`:\n",
    "    - 2 Virginica are classified wrongly as versicolor\n",
    "    - **But** model accuracy increase by 3% using this GridSearchCV pipeline. \n",
    "\n",
    "---\n",
    "- **Features of GridSearchCV pipeline method**\n",
    "    - the process becomes automated and rigorous:\n",
    "    - It tries all combinations in param_grid.\n",
    "    - It uses cross-validation to avoid overfitting to a single train-test split.\n",
    "    - It returns the best parameters and the best model."
   ]
  }
 ],
 "metadata": {
  "kernelspec": {
   "display_name": ".venv",
   "language": "python",
   "name": "python3"
  },
  "language_info": {
   "codemirror_mode": {
    "name": "ipython",
    "version": 3
   },
   "file_extension": ".py",
   "mimetype": "text/x-python",
   "name": "python",
   "nbconvert_exporter": "python",
   "pygments_lexer": "ipython3",
   "version": "3.12.3"
  }
 },
 "nbformat": 4,
 "nbformat_minor": 5
}
