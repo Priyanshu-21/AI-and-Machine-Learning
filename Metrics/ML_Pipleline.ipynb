{
 "cells": [
  {
   "cell_type": "markdown",
   "id": "56bf67f4",
   "metadata": {},
   "source": [
    "### Introduction to making piplelines using GridSearchCV\n",
    "After completing this lab you will be able to:\n",
    "\n",
    "- Build and evaluate a machine learning pipeline\n",
    "- Implement GridSearchCV for hyperparameter tuning with crossvalidation\n",
    "- Implement and optimize a complex classification pipeline using real-world data\n",
    "- Extract feature importances from a trained pipeline"
   ]
  },
  {
   "cell_type": "code",
   "execution_count": 1,
   "id": "b9c3bb75",
   "metadata": {},
   "outputs": [],
   "source": [
    "#Importing libraries \n",
    "import numpy as np \n",
    "import pandas as pd \n",
    "import matplotlib.pyplot as plt "
   ]
  },
  {
   "cell_type": "code",
   "execution_count": 8,
   "id": "d79e208d",
   "metadata": {},
   "outputs": [],
   "source": [
    "#1. Taking iris dataset and train it using KNN classification method \n",
    "from sklearn.datasets import load_iris\n",
    "\n",
    "data = load_iris()\n",
    "\n",
    "x, y = data.data, data.target\n",
    "\n",
    "labels = data.target_names"
   ]
  },
  {
   "cell_type": "markdown",
   "id": "a82284b2",
   "metadata": {},
   "source": [
    "#### Making Pipleline where we are doing the following processes \n",
    "\n",
    "1. Data Pre-processing: - StandardScaler\n",
    "2. Dimension Reduction: - PCA \n",
    "3. Model Selection: - KNN Classification"
   ]
  },
  {
   "cell_type": "code",
   "execution_count": 11,
   "id": "18eefaac",
   "metadata": {},
   "outputs": [],
   "source": [
    "#Pipleline \n",
    "from sklearn.pipeline import Pipeline\n",
    "from sklearn.decomposition import PCA\n",
    "from sklearn.neighbors import KNeighborsClassifier\n",
    "from sklearn.preprocessing import StandardScaler\n",
    "\n",
    "pipeline = Pipeline([\n",
    "    ('scaler', StandardScaler()), \n",
    "    ('pca', PCA(n_components= 2)),\n",
    "    ('knn', KNeighborsClassifier(n_neighbors= 5))\n",
    "])\n"
   ]
  },
  {
   "cell_type": "markdown",
   "id": "c5d8a19e",
   "metadata": {},
   "source": [
    "- **Stratified Cross validation**: - Ensures that each classfied datapoints have their density, variance and distribution intact throughout validaton fold. "
   ]
  },
  {
   "cell_type": "code",
   "execution_count": 12,
   "id": "4e2a705f",
   "metadata": {},
   "outputs": [],
   "source": [
    "#Split datasets into training, testing and validation sets. \n",
    "#Cross validaton technique used: Stratified Cross validation\n",
    "from sklearn.model_selection import train_test_split, GridSearchCV, StratifiedKFold\n"
   ]
  },
  {
   "cell_type": "markdown",
   "id": "b986abc2",
   "metadata": {},
   "source": [
    "### TODO: - \n",
    "1. Implementation of ML pipeline using KNN classification model \n",
    "2. Implmentation of ML pipeline using different classification model \n",
    "3. Implementation using GridSearchCV & StratifiedFold method"
   ]
  }
 ],
 "metadata": {
  "kernelspec": {
   "display_name": ".venv",
   "language": "python",
   "name": "python3"
  },
  "language_info": {
   "codemirror_mode": {
    "name": "ipython",
    "version": 3
   },
   "file_extension": ".py",
   "mimetype": "text/x-python",
   "name": "python",
   "nbconvert_exporter": "python",
   "pygments_lexer": "ipython3",
   "version": "3.12.3"
  }
 },
 "nbformat": 4,
 "nbformat_minor": 5
}
