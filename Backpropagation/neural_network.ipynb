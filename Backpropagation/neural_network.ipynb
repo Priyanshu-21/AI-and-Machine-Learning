{
 "cells": [
  {
   "cell_type": "markdown",
   "id": "5af55233",
   "metadata": {},
   "source": [
    "## Implementation of Neural Netwok using BackPropagation \n",
    "- Change in weights to minimize the cost of the model \n",
    "- Change in bias to minimize the cost of the model "
   ]
  },
  {
   "cell_type": "markdown",
   "id": "dd0c7a9f",
   "metadata": {},
   "source": [
    "### About the neural Network \n",
    "1. Input layer = 1\n",
    "2. Hidden layer = 2 (7 Neurons & 6 Neurons)\n",
    "3. Output layer = 2 (2 Neurons)\n",
    "\n",
    "![Neural Network Image](../Img/neural_network_image1.png)\n",
    "\n",
    "- Total number of weight: - **w** = 7 * 6 * 2 * 1 = 84\n",
    "- Total number of bias: - **b** = 2 + 7 + 6 = 15"
   ]
  },
  {
   "cell_type": "code",
   "execution_count": 130,
   "id": "d7faed89",
   "metadata": {},
   "outputs": [],
   "source": [
    "%run \"training_data.ipynb\""
   ]
  },
  {
   "cell_type": "code",
   "execution_count": 131,
   "id": "91c5a6a4",
   "metadata": {},
   "outputs": [],
   "source": [
    "#loading libraries\n",
    "import numpy as np\n",
    "import numpy.linalg as la\n",
    "import matplotlib.pyplot as plt"
   ]
  },
  {
   "cell_type": "code",
   "execution_count": 132,
   "id": "98afc320",
   "metadata": {},
   "outputs": [],
   "source": [
    "#Define activation function (Using: exponential function)\n",
    "sigma = lambda z : 1 / (1 + np.exp(-z))\n",
    "d_sigma = lambda z : np.cosh(z / 2) ** 2 / 4\n",
    "\n",
    "def reset_network(n1 = 6, n2 = 7, random = np.random):\n",
    "    global w1, w2, w3, b1, b2, b3\n",
    "    #Define the weights & bias initial values \n",
    "    w1 = random.randn(n1, 1) / 2    #w1 = 6 * 1\n",
    "    w2 = random.randn(n2, n1) / 2   #w2 = 7 * 6\n",
    "    w3 = random.randn(2, n2) / 2    #w3 = 2 * 7\n",
    "\n",
    "    b1 = random.randn(n1, 1) / 2    #b1 = 6 * 1\n",
    "    b2 = random.randn(n2, 1) / 2    #b2 = 7 * 1\n",
    "    b3 = random.randn(2, 1) / 2     #b3 = 2 * 1\n",
    "\n",
    "    \n",
    "#Defination of feed Forward \n",
    "def neural_network (a0): \n",
    "    #At layer 1 \n",
    "    a1 = w1 @ a0 + b1\n",
    "    z1 = sigma(a1)\n",
    "\n",
    "    #At layer 2\n",
    "    a2 = w2 @ a1 + b2\n",
    "    z2 = sigma(a2)\n",
    "\n",
    "    #At layer 3\n",
    "    a3 = w3 @ a2 + b3\n",
    "    z3 = sigma(a3)\n",
    "\n",
    "    return a0, a1, z1, a2, z2, a3, z3"
   ]
  },
  {
   "cell_type": "markdown",
   "id": "972928aa",
   "metadata": {},
   "source": [
    "### Change in cost with respect to change in weights, bias\n",
    "- Now need to calculate how change in weights and bias can affect cost of the model.  \n",
    "- In neural network, we always want to minimize cost of the model to train it. \n",
    "---\n",
    "1. Need to calculate change in weight & bias in each level and sum up the cost factor "
   ]
  },
  {
   "cell_type": "code",
   "execution_count": 133,
   "id": "b5032cdd",
   "metadata": {},
   "outputs": [],
   "source": [
    "#Change in weight and Bias in level 3 \n",
    "\n",
    "#Change in weight \n",
    "def cost_weight_l3(x, y):\n",
    "    #Send input to neural network \n",
    "    a0, a1, z1, a2, z2, a3, z3 = neural_network(x)\n",
    "    #Calcutating cost w.r.t weight\n",
    "    C = 2 * (a3 - y)\n",
    "    C = C * d_sigma(z3)\n",
    "    C = C @ a2.T / x.size\n",
    "\n",
    "    return C\n",
    "\n",
    "#Change in bias\n",
    "def cost_bias_l3(x, y): \n",
    "    #Send input to neural network \n",
    "    a0, a1, z1, a2, z2, a3, z3 = neural_network(x)\n",
    "    #Calculating cost w.r.t bias \n",
    "    C = 2 * (a3 - y)\n",
    "    C = C * d_sigma(z3)\n",
    "    C = C / x.size  #Since, change in bias w.r.t cost is 1\n",
    "    \n",
    "    return C"
   ]
  },
  {
   "cell_type": "code",
   "execution_count": 134,
   "id": "3c4c5f4d",
   "metadata": {},
   "outputs": [],
   "source": [
    "#Change in weight and Bias in level 2 \n",
    "\n",
    "#Change in weight \n",
    "def cost_weight_l2(x, y):\n",
    "    #Send input to neural network \n",
    "    a0, a1, z1, a2, z2, a3, z3 = neural_network(x)\n",
    "    #Calcutating cost w.r.t weight\n",
    "    C = 2 * (a3 - y)\n",
    "    C = C * d_sigma(z3)\n",
    "    C = (C.T @ w3).T\n",
    "    C = C * d_sigma(z2)\n",
    "    C = (C @ a1.T) / x.size\n",
    "\n",
    "    return C\n",
    "\n",
    "#Change in bias\n",
    "def cost_bias_l2(x, y): \n",
    "    #Send input to neural network \n",
    "    a0, a1, z1, a2, z2, a3, z3 = neural_network(x)\n",
    "    #Calculating cost w.r.t bias \n",
    "    C = 2 * (a3 - y)\n",
    "    C = C * d_sigma(z3)\n",
    "    C = (C.T @ w3).T\n",
    "    C = C * d_sigma(z2)\n",
    "    C = C / x.size  #Since, change in bias w.r.t cost is 1\n",
    "    \n",
    "    return C"
   ]
  },
  {
   "cell_type": "code",
   "execution_count": 135,
   "id": "72cfa8df",
   "metadata": {},
   "outputs": [],
   "source": [
    "#Change in weight and Bias in level 1\n",
    "\n",
    "#Change in weight \n",
    "def cost_weight_l1(x, y):\n",
    "    #Send input to neural network \n",
    "    a0, a1, z1, a2, z2, a3, z3 = neural_network(x)\n",
    "    #Calcutating cost w.r.t weight\n",
    "    C = 2 * (a3 - y)\n",
    "    C = C * d_sigma(z3)\n",
    "    C = (C.T @ w3).T\n",
    "    C = C * d_sigma(z2)\n",
    "    C = (C.T @ w2).T\n",
    "    C = C * d_sigma(z1)\n",
    "    C = (C @ a0.T) / x.size\n",
    "\n",
    "    return C\n",
    "\n",
    "#Change in bias\n",
    "def cost_bias_l1(x, y): \n",
    "    #Send input to neural network \n",
    "    a0, a1, z1, a2, z2, a3, z3 = neural_network(x)\n",
    "    #Calculating cost w.r.t bias \n",
    "    C = 2 * (a3 - y)\n",
    "    C = C * d_sigma(z3)\n",
    "    C = (C.T @ w3).T\n",
    "    C = C * d_sigma(z2)\n",
    "    C = (C.T @ w2).T\n",
    "    C = C * d_sigma(z1)\n",
    "    C = C / x.size  #Since, change in bias w.r.t cost is 1\n",
    "    \n",
    "    return C"
   ]
  },
  {
   "cell_type": "markdown",
   "id": "2338ac0d",
   "metadata": {},
   "source": [
    "### Training Model \n",
    "- Get trained model input & expected output to train the model \n",
    "- Have Stochastic Gradient Descent to train inputs on the Model \n",
    "- Minimize cost by reducing weight and bias "
   ]
  },
  {
   "cell_type": "code",
   "execution_count": 136,
   "id": "ba7bc3eb",
   "metadata": {},
   "outputs": [],
   "source": [
    "#Trained Expected data\n",
    "x, y = training_data()\n",
    "reset_network()"
   ]
  },
  {
   "cell_type": "code",
   "execution_count": 137,
   "id": "71da283a",
   "metadata": {},
   "outputs": [
    {
     "data": {
      "image/png": "[encoded data removed]",
      "text/plain": [
       "<Figure size 640x640 with 1 Axes>"
      ]
     },
     "metadata": {},
     "output_type": "display_data"
    }
   ],
   "source": [
    "plot_training(x, y, 10000, 0.001, 1)"
   ]
  }
 ],
 "metadata": {
  "kernelspec": {
   "display_name": ".venv",
   "language": "python",
   "name": "python3"
  },
  "language_info": {
   "codemirror_mode": {
    "name": "ipython",
    "version": 3
   },
   "file_extension": ".py",
   "mimetype": "text/x-python",
   "name": "python",
   "nbconvert_exporter": "python",
   "pygments_lexer": "ipython3",
   "version": "3.12.3"
  }
 },
 "nbformat": 4,
 "nbformat_minor": 5
}
