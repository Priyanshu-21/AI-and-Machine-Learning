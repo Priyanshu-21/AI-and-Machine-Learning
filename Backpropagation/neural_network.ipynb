{
 "cells": [
  {
   "cell_type": "markdown",
   "id": "5af55233",
   "metadata": {},
   "source": [
    "## Implementation of Neural Netwok using BackPropagation \n",
    "- Change in weights to minimize the cost of the model \n",
    "- Change in bias to minimize the cost of the model "
   ]
  },
  {
   "cell_type": "markdown",
   "id": "dd0c7a9f",
   "metadata": {},
   "source": [
    "### About the neural Network \n",
    "1. Input layer = 1\n",
    "2. Hidden layer = 2 (7 Neurons & 6 Neurons)\n",
    "3. Output layer = 2 (2 Neurons)\n",
    "\n",
    "![Neural Network Image](../Img/neural_network_image1.png)\n",
    "\n",
    "- Total number of weight: - **w** = 7 * 6 * 2 * 1 = 84\n",
    "- Total number of bias: - **b** = 2 + 7 + 6 = 15"
   ]
  },
  {
   "cell_type": "code",
   "execution_count": null,
   "id": "91c5a6a4",
   "metadata": {},
   "outputs": [],
   "source": [
    "#loading libraries\n",
    "import numpy as np\n",
    "import numpy.linalg as la\n",
    "import matplotlib.pyplot as plt"
   ]
  },
  {
   "cell_type": "code",
   "execution_count": 3,
   "id": "98afc320",
   "metadata": {},
   "outputs": [],
   "source": [
    "#Define activation function (Using: exponential function)\n",
    "sigma = lambda z : 1 / (1 + np.exp(-z))\n",
    "\n",
    "#Defination of feed Forward \n",
    "def neural_network (a0, w1, b1, z1, a1, w2, b2, z2, a2, w3, b3, z3, a3): \n",
    "    #At layer 1 \n",
    "    a1 = w1 @ a0 + b1\n",
    "    z1 = sigma(a1)\n",
    "\n",
    "    #At layer 2\n",
    "    a2 = w2 @ a1 + b2\n",
    "    z2 = sigma(a2)\n",
    "\n",
    "    #At layer 3\n",
    "    a3 = w3 @ a2 + b3\n",
    "    z3 = sigma(a3)\n",
    "\n",
    "    return a0, a1, z1, a2, z1, a3, z1"
   ]
  }
 ],
 "metadata": {
  "kernelspec": {
   "display_name": ".venv",
   "language": "python",
   "name": "python3"
  },
  "language_info": {
   "codemirror_mode": {
    "name": "ipython",
    "version": 3
   },
   "file_extension": ".py",
   "mimetype": "text/x-python",
   "name": "python",
   "nbconvert_exporter": "python",
   "pygments_lexer": "ipython3",
   "version": "3.12.3"
  }
 },
 "nbformat": 4,
 "nbformat_minor": 5
}
