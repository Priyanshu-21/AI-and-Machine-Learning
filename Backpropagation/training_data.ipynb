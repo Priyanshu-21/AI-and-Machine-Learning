{
 "cells": [
  {
   "cell_type": "code",
   "execution_count": 27,
   "id": "f9ed90ac",
   "metadata": {},
   "outputs": [],
   "source": [
    "#Loading libraries \n",
    "import numpy as np\n",
    "import matplotlib.pyplot as plt"
   ]
  },
  {
   "cell_type": "code",
   "execution_count": 28,
   "id": "f168a922",
   "metadata": {},
   "outputs": [],
   "source": [
    "#Creating network and initial values for Model \n",
    "\n",
    "def training_data(N = 100):\n",
    "    x = np.arange(0, 1, 1 / N)\n",
    "    y = np.array([\n",
    "        16 * np.sin(2 * np.pi * x / 3), \n",
    "        13 * np.cos(2 * np.pi * x) - 5 * np.cos(2 * 2 * np.pi * x) - 2 * np.cos(3 * 2 * np.pi * x) - np.cos(4 * 2 * np.pi * x)\n",
    "    ]) / 20\n",
    "    y = (y + 1) / 2\n",
    "    #reshape input (x) -> list to list[list]\n",
    "    x = np.reshape(x, (1, N))\n",
    "    \n",
    "    return x, y"
   ]
  },
  {
   "cell_type": "code",
   "execution_count": 29,
   "id": "2a50b94a",
   "metadata": {},
   "outputs": [],
   "source": [
    "#Implementation of Stochastic Gradient Descent Algorithm \n",
    "def plot_training(x, y, iterations = 10000, learningRate = 0.001, noise = 1):\n",
    "    global w1, w2, w3, b1, b2, b3\n",
    "    #Caculating change in weight, bias with change in cost \n",
    "    #Target: - Minimize cost in the model \n",
    "\n",
    "    #Plotting the data in graph\n",
    "    fig, ax = plt.subplots(figsize=(8, 8), dpi= 80)\n",
    "    ax.set_xlim([0, 1]) #X-axis limit (0, 1)\n",
    "    ax.set_ylim([0, 1]) #Y-axis limit (0, 1)\n",
    "    ax.set_aspect(1) #Aspect ratio 1 / 1\n",
    "    \n",
    "    #Making grid in x and y direction\n",
    "    xx = np.arange(0, 1.01, 0.01)\n",
    "    yy = np.arange(0, 1.01, 0.01)\n",
    "    X, Y = np.meshgrid(xx, yy)\n",
    "    \n",
    "    #Import this meshgrid in main plot\n",
    "    Z = ((X - 0.5)**2 - (Y - 1)**2)**1/2 / (1.25)**(1/2) \n",
    "    #print(Z)\n",
    "\n",
    "    while (iterations >= 0):\n",
    "        #Jacobian of weight in Network 3 to change in weight and bias \n",
    "        j_w3 = cost_weight_l3(x, y) * (1 + np.random.randn() * noise)\n",
    "        j_b3 = cost_bias_l3(x, y) * (1 + np.random.randn() * noise)\n",
    "\n",
    "        #Jacobian of weight in Network 2 to change in weight and bias\n",
    "        j_w2 = cost_weight_l2(x, y) * (1 + np.random.randn() * noise)\n",
    "        j_b2 = cost_bias_l2(x, y) * (1 + np.random.randn() * noise)\n",
    "\n",
    "        #Jacobian of weight in Network 1 to change in weight and bias\n",
    "        j_w1 = cost_weight_l1(x, y) * (1 + np.random.randn() * noise)\n",
    "        j_b1 = cost_bias_l1(x, y) * (1 + np.random.randn() * noise)\n",
    "        \n",
    "        #Stochastic Gradient Descent\n",
    "        #At Level 1 \n",
    "        w1 = w1 - learningRate * j_w1\n",
    "        b1 = b1 - learningRate * j_b1\n",
    "        #At Level 2\n",
    "        w2 = w2 - learningRate * j_w2\n",
    "        b2 = b2 - learningRate * j_b2\n",
    "        #At Level 3\n",
    "        w3 = w3 - learningRate * j_w3\n",
    "        b3 = b3 - learningRate * j_b3\n",
    "\n",
    "        iterations -= 1"
   ]
  }
 ],
 "metadata": {
  "kernelspec": {
   "display_name": ".venv",
   "language": "python",
   "name": "python3"
  },
  "language_info": {
   "codemirror_mode": {
    "name": "ipython",
    "version": 3
   },
   "file_extension": ".py",
   "mimetype": "text/x-python",
   "name": "python",
   "nbconvert_exporter": "python",
   "pygments_lexer": "ipython3",
   "version": "3.12.3"
  }
 },
 "nbformat": 4,
 "nbformat_minor": 5
}
