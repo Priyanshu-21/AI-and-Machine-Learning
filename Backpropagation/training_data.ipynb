{
 "cells": [
  {
   "cell_type": "code",
   "execution_count": 17,
   "id": "f9ed90ac",
   "metadata": {},
   "outputs": [],
   "source": [
    "#Loading libraries \n",
    "import numpy as np\n",
    "import matplotlib.pyplot as plt"
   ]
  },
  {
   "cell_type": "code",
   "execution_count": 18,
   "id": "f168a922",
   "metadata": {},
   "outputs": [],
   "source": [
    "#Creating network and initial values for Model \n",
    "\n",
    "def training_data(N = 100):\n",
    "    x = np.arange(0, 1, 1 / N)\n",
    "    y = np.array([\n",
    "        16 * np.sin(2 * np.pi * x / 3), \n",
    "        13 * np.cos(2 * np.pi * x) - 5 * np.cos(2 * 2 * np.pi * x) - 2 * np.cos(3 * 2 * np.pi * x) - np.cos(4 * 2 * np.pi * x)\n",
    "    ]) / 20\n",
    "    y = (y + 1) / 2\n",
    "    #reshape input (x) -> list to list[list]\n",
    "    x = np.reshape(x, (1, N))\n",
    "    \n",
    "    return x, y"
   ]
  },
  {
   "cell_type": "code",
   "execution_count": 19,
   "id": "2a50b94a",
   "metadata": {},
   "outputs": [],
   "source": [
    "#Implementation of Stochastic Gradient Descent Algorithm \n",
    "def plot_training(x, y, iterations = 10000, learningRate = 0.001, noise = 1):\n",
    "    global w1, w2, w3, b1, b2, b3\n",
    "    #Caculating change in weight, bias with change in cost \n",
    "    #Target: - Minimize cost in the model \n",
    "    while (iterations >= 0):\n",
    "        j_w3 = cost_weight_l3(x, y) * (1 + np.random.randn() * noise)\n",
    "        print(j_w3)\n",
    "        iterations -= 1"
   ]
  }
 ],
 "metadata": {
  "kernelspec": {
   "display_name": ".venv",
   "language": "python",
   "name": "python3"
  },
  "language_info": {
   "codemirror_mode": {
    "name": "ipython",
    "version": 3
   },
   "file_extension": ".py",
   "mimetype": "text/x-python",
   "name": "python",
   "nbconvert_exporter": "python",
   "pygments_lexer": "ipython3",
   "version": "3.12.3"
  }
 },
 "nbformat": 4,
 "nbformat_minor": 5
}
