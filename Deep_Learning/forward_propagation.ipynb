{
 "cells": [
  {
   "cell_type": "markdown",
   "id": "bb1355c2",
   "metadata": {},
   "source": [
    "### Introduction to forward propagation\n",
    "1. Implement from scratch a simple artificial neural network system \n",
    "2. Using only numpy to generate neural network from scratch "
   ]
  },
  {
   "cell_type": "markdown",
   "id": "3f2fa2ee",
   "metadata": {},
   "source": [
    "### Structure of neural network \n",
    "- Taking a small neural network with below features \n",
    "    - 1 input layer with 2 inputs \n",
    "    - 1 hidden layer with 2 inputs [work as ouput of input layer as input]\n",
    "    - 1 neuron for output layer \n",
    "\n",
    "![Image.png](../Img/simple_nueral_network.png)"
   ]
  },
  {
   "cell_type": "code",
   "execution_count": 30,
   "id": "92d2535d",
   "metadata": {},
   "outputs": [
    {
     "name": "stdout",
     "output_type": "stream",
     "text": [
      "[0.78 0.87 0.98 0.8  0.46 0.78]\n",
      "[0.12 0.64 0.14]\n"
     ]
    }
   ],
   "source": [
    "#Importing libraries \n",
    "import numpy as np \n",
    "\n",
    "weights = np.around(np.random.uniform(size= 6), decimals= 2)\n",
    "bias = np.around(np.random.uniform(size= 3), decimals= 2)\n",
    "\n",
    "print(weights)\n",
    "print(bias)"
   ]
  },
  {
   "cell_type": "code",
   "execution_count": 33,
   "id": "cc08a1a2",
   "metadata": {},
   "outputs": [
    {
     "name": "stdout",
     "output_type": "stream",
     "text": [
      "x1 is 0.5 and x2 is 0.85\n"
     ]
    }
   ],
   "source": [
    "#Input node \n",
    "x1 = 0.5\n",
    "x2 = 0.85\n",
    "\n",
    "print('x1 is {} and x2 is {}'.format(x1, x2))"
   ]
  },
  {
   "cell_type": "code",
   "execution_count": 34,
   "id": "00a89fad",
   "metadata": {},
   "outputs": [],
   "source": [
    "#Calculate z for the hidden and ouput layer \n",
    "\n",
    "#Hidden Layer 1 \n",
    "z11 = x1 * weights[0] + bias[0]\n",
    "z12 = x1 * weights[1] + bias[1]\n",
    "\n",
    "#Hidden Layer 2 \n",
    "z21 = x2 * weights[2] + bias[0]\n",
    "z22 = x2 * weights[3] + bias[1]\n",
    "\n",
    "#Applying activation function (using Sigmoid Function)\n",
    "sigma = lambda z : 1 / 1 + np.exp(-z)\n",
    "\n",
    "#Activation function at each layer \n",
    "z11 = sigma(z11)\n",
    "z12 = sigma(z12)\n",
    "z21 = sigma(z21)\n",
    "z22 = sigma(z22)\n",
    "\n",
    "#Output layer \n",
    "z3 = (z11 + z21) * weights[4] + bias[2] \n",
    "z4 = (z12 + z22) * weights[5] + bias[2]\n",
    "\n",
    "z3 = sigma(z3)\n",
    "z4 = sigma(z4)\n",
    "\n",
    "#Actual output \n",
    "z = z3 + z4"
   ]
  },
  {
   "cell_type": "code",
   "execution_count": 40,
   "id": "97b62a68",
   "metadata": {},
   "outputs": [
    {
     "name": "stdout",
     "output_type": "stream",
     "text": [
      "The output of simple neural network is 2.33\n"
     ]
    }
   ],
   "source": [
    "print('The output of simple neural network is {}'.format(np.round(z, 2)))"
   ]
  },
  {
   "cell_type": "markdown",
   "id": "2059171f",
   "metadata": {},
   "source": [
    "### TODO: - \n",
    "- Make a generalized form of neural network \n",
    "- Make and calculate activation and output of each node of the neural network "
   ]
  }
 ],
 "metadata": {
  "kernelspec": {
   "display_name": ".venv",
   "language": "python",
   "name": "python3"
  },
  "language_info": {
   "codemirror_mode": {
    "name": "ipython",
    "version": 3
   },
   "file_extension": ".py",
   "mimetype": "text/x-python",
   "name": "python",
   "nbconvert_exporter": "python",
   "pygments_lexer": "ipython3",
   "version": "3.12.3"
  }
 },
 "nbformat": 4,
 "nbformat_minor": 5
}
